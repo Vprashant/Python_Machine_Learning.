{
 "cells": [
  {
   "cell_type": "code",
   "execution_count": 43,
   "metadata": {},
   "outputs": [
    {
     "name": "stdout",
     "output_type": "stream",
     "text": [
      "0    1.1\n",
      "1    1.3\n",
      "2    1.5\n",
      "3    2.0\n",
      "4    2.2\n",
      "Name: YearsExperience, dtype: float64\n"
     ]
    }
   ],
   "source": [
    "\n",
    "import pandas as pd\n",
    "\n",
    "\n",
    "# fillna\n",
    "# dropna\n",
    "# data imputation ----> mean, median  ----> data normalization and standardization  \n",
    "\n",
    "data = pd.read_csv('C:\\\\Users\\\\Prashant Verma\\\\Desktop\\\\Machine Learning Classes\\\\Datasets\\\\Salary_Data.csv')\n",
    "\n",
    "# first five entries\n",
    "data.head(10)\n",
    "\n",
    "# last five entries of data\n",
    "data.tail()\n",
    "# data shape\n",
    "data.shape\n",
    "\n",
    "# data split \n",
    "data['Salary'][0:5]\n",
    "col_data = data.iloc[0:5, 0] # range of columns\n",
    "print(col_data)\n",
    "# data statsical summary \n",
    "#data.describe()\n",
    "\n",
    "# data Frame convert --> numpy array\n",
    "df_np = data.to_numpy()\n",
    "#print(df_np)\n",
    "\n",
    "[d[1]  for d in df_np][0:5] # comprehension list return list\n",
    "\n",
    "lis = []\n",
    "for d in df_np:\n",
    "    lis.append(d[1])\n",
    "lis[0:5]\n",
    "    \n",
    "type(data)\n",
    "\n",
    "# data seperation on basis of conditions\n",
    "\n",
    "new_data = data[data.Salary > 40000]\n",
    "new_data.shape\n",
    "\n",
    "# data copy\n",
    "copy_data = data.copy()\n",
    "copy_data\n",
    "\n",
    "# Add new column in dataframe\n",
    "copy_data['Age'] = [i for i in range(len(data))] # data should be a list type\n",
    "copy_data\n",
    "\n",
    "\n",
    "#Drop a row\n",
    "data = copy_data['Salary'].values # to get array from dataframe\n",
    "data = data.tolist() # array into list\n",
    "data.append(12333)\n"
   ]
  }
 ],
 "metadata": {
  "kernelspec": {
   "display_name": "Python 3",
   "language": "python",
   "name": "python3"
  },
  "language_info": {
   "codemirror_mode": {
    "name": "ipython",
    "version": 3
   },
   "file_extension": ".py",
   "mimetype": "text/x-python",
   "name": "python",
   "nbconvert_exporter": "python",
   "pygments_lexer": "ipython3",
   "version": "3.7.4"
  }
 },
 "nbformat": 4,
 "nbformat_minor": 2
}
